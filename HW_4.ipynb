{
 "cells": [
  {
   "cell_type": "markdown",
   "metadata": {},
   "source": [
    "# Homework 4"
   ]
  },
  {
   "cell_type": "markdown",
   "metadata": {},
   "source": [
    "## 1) Does basic house information reflect house's description?"
   ]
  },
  {
   "cell_type": "markdown",
   "metadata": {},
   "source": [
    "###### Mahtab Fotovat, Melis Kaymaz, Claudio Battiloro\n",
    "In this assignment, we will perform a clustering analysis of house announcements in Rome from Immobiliare.it. "
   ]
  },
  {
   "cell_type": "code",
   "execution_count": 2,
   "metadata": {},
   "outputs": [],
   "source": [
    "from  bs4  import  BeautifulSoup\n",
    "import  requests\n",
    "import pandas as pd\n",
    "import numpy as np\n",
    "import pickle\n",
    "import re"
   ]
  },
  {
   "cell_type": "markdown",
   "metadata": {},
   "source": [
    "###### Creating Dataset\n",
    "We will create our own dataset by using Beautiful Soup. The function above will save and return the data in the path you specified. Remember that it can take a lot of time."
   ]
  },
  {
   "cell_type": "code",
   "execution_count": null,
   "metadata": {},
   "outputs": [],
   "source": [
    "path = r'D:\\\\Data Science\\\\ADM(Algorithmic Methods of Data Mining)\\\\hw\\\\hw4\\\\'\n",
    "create_data(path)"
   ]
  },
  {
   "cell_type": "markdown",
   "metadata": {},
   "source": [
    "Since we already saved the data, we can read it directly"
   ]
  },
  {
   "cell_type": "code",
   "execution_count": 7,
   "metadata": {
    "scrolled": true
   },
   "outputs": [
    {
     "data": {
      "text/html": [
       "<style  type=\"text/css\" >\n",
       "</style>  \n",
       "<table id=\"T_f9b83cc6_f642_11e8_bc2f_b0359fbebaa8\" > \n",
       "<thead>    <tr> \n",
       "        <th class=\"col_heading level0 col0\" >url</th> \n",
       "        <th class=\"col_heading level0 col1\" >price</th> \n",
       "        <th class=\"col_heading level0 col2\" >locali</th> \n",
       "        <th class=\"col_heading level0 col3\" >superficie</th> \n",
       "        <th class=\"col_heading level0 col4\" >bagni</th> \n",
       "        <th class=\"col_heading level0 col5\" >piano</th> \n",
       "        <th class=\"col_heading level0 col6\" >description</th> \n",
       "    </tr></thead> \n",
       "<tbody>    <tr> \n",
       "        <td id=\"T_f9b83cc6_f642_11e8_bc2f_b0359fbebaa8row0_col0\" class=\"data row0 col0\" >https://www.immobiliare.it/nuove_costruzioni/Roma/142255-immobile.html</td> \n",
       "        <td id=\"T_f9b83cc6_f642_11e8_bc2f_b0359fbebaa8row0_col1\" class=\"data row0 col1\" >448500</td> \n",
       "        <td id=\"T_f9b83cc6_f642_11e8_bc2f_b0359fbebaa8row0_col2\" class=\"data row0 col2\" >3</td> \n",
       "        <td id=\"T_f9b83cc6_f642_11e8_bc2f_b0359fbebaa8row0_col3\" class=\"data row0 col3\" >46</td> \n",
       "        <td id=\"T_f9b83cc6_f642_11e8_bc2f_b0359fbebaa8row0_col4\" class=\"data row0 col4\" >None</td> \n",
       "        <td id=\"T_f9b83cc6_f642_11e8_bc2f_b0359fbebaa8row0_col5\" class=\"data row0 col5\" >None</td> \n",
       "        <td id=\"T_f9b83cc6_f642_11e8_bc2f_b0359fbebaa8row0_col6\" class=\"data row0 col6\" >\n",
       "\n",
       "                                Le residenze di Rinascimento Quinto completano il programma edilizio Rione Rinascimento, il progetto di città giardino per Roma del Gruppo Pietro Mezzaroma e Figli.\n",
       "Il complesso residenziale è concepito per avere il minor impatto ambientale e paesaggistico possibile, così da integrarsi armoniosamente con il verde di Parco Talenti. L’intero quartiere è difatti al centro di una profonda riqualificazione urbana, che fa dell’eco-compatibilità e della ricerca architettonica i suoi punti di maggior forza.\n",
       "L’iniziativa prevede la realizzazione di tre edifici distinti. Ogni unità abitativa, in classe energetica A/A+, è finemente rifinita, composta da materiali di prima qualità forniti dalle migliori aziende del settore. L’idea stilistica alla base del progetto prevede l’esaltazione dei volumi esterni con ampie terrazze panoramiche dall’architettura moderna, che sapientemente sfruttano le potenzialità della luce naturale per l’illuminazione degli interni, rendendo gli ambienti sobri e naturali..\n",
       "Gli appartamenti che compongono Rinascimento Quinto sono tecnicamente all’avanguardia per quanto riguarda il contenimento ed il risparmio energetico. Speciali sistemi domotici di ultima generazione garantiscono una gestione intelligente delle risorse, permettendo di ottenere, in ogni ambiente, un microclima perfetto evitando inutili sprechi..\n",
       "Ad ogni unità abitativa sono abbinati box e/o posto auto coperto e cantina..\n",
       "Numerose strutture condominiali quali piscina scoperta , guardiania, ampie zone a giardino, spazio giochi per bambini e parcheggi esterni completano l’offerta residenziale di Rinascimento Quinto --> www.mezzaroma.it\n",
       "Tipologia delle residenze:\n",
       "- Mono/bilocali da 48 a 60 mq\n",
       "- Trilocali da 95 a 107 mq\n",
       "- Quadrilocali da 107 a 155 mq\n",
       "- Attici di 128 mq.\n",
       "\n",
       "\n",
       "</td> \n",
       "    </tr>    <tr> \n",
       "        <td id=\"T_f9b83cc6_f642_11e8_bc2f_b0359fbebaa8row1_col0\" class=\"data row1 col0\" >https://www.immobiliare.it/53131931-Vendita-Bilocale-viale-Italo-Calvino-Roma.html</td> \n",
       "        <td id=\"T_f9b83cc6_f642_11e8_bc2f_b0359fbebaa8row1_col1\" class=\"data row1 col1\" >225000</td> \n",
       "        <td id=\"T_f9b83cc6_f642_11e8_bc2f_b0359fbebaa8row1_col2\" class=\"data row1 col2\" >2</td> \n",
       "        <td id=\"T_f9b83cc6_f642_11e8_bc2f_b0359fbebaa8row1_col3\" class=\"data row1 col3\" >50</td> \n",
       "        <td id=\"T_f9b83cc6_f642_11e8_bc2f_b0359fbebaa8row1_col4\" class=\"data row1 col4\" >1</td> \n",
       "        <td id=\"T_f9b83cc6_f642_11e8_bc2f_b0359fbebaa8row1_col5\" class=\"data row1 col5\" >1</td> \n",
       "        <td id=\"T_f9b83cc6_f642_11e8_bc2f_b0359fbebaa8row1_col6\" class=\"data row1 col6\" >\n",
       "\n",
       "                                PAPILLO EUR in elegante complesso residenziale rifinitissimo bilocale composto da soggiorno con angolo cottura, stanza da letto bagno e ampio balcone . con Rifiniture di pregio, pavimenti in parquet / grees, infissi in legno con vetro camera e porte in noce, grate nel salone, riscaldamento termoautonomo con caldaia centralizzata, aria condizionata, videocitofono, porta blindata, serramenti elettrici con chiusura centralizzata, antenna satellitare, isolamento termo acustico, pannelli solari e fotovoltaici , rilevatori elettronici di gas. Tutte le camere sono fornite di impianto antifurto, presa antenna satellitare e presa telefonica.\n",
       "\n",
       "ORARI lunedi chiusi\n",
       " martedi 10:00-17:00\n",
       " mercoledi 10:00-17:00\n",
       "giovedi 10:00-17:00\n",
       "venrdi 10:00-17:00\n",
       "sabato 10:00-17:00\n",
       " domenica 10:00-13:00\n",
       "            \n",
       "</td> \n",
       "    </tr>    <tr> \n",
       "        <td id=\"T_f9b83cc6_f642_11e8_bc2f_b0359fbebaa8row2_col0\" class=\"data row2 col0\" >https://www.immobiliare.it/70420586-Vendita-Bilocale-via-Prenestina-59-Roma.html</td> \n",
       "        <td id=\"T_f9b83cc6_f642_11e8_bc2f_b0359fbebaa8row2_col1\" class=\"data row2 col1\" >229000</td> \n",
       "        <td id=\"T_f9b83cc6_f642_11e8_bc2f_b0359fbebaa8row2_col2\" class=\"data row2 col2\" >2</td> \n",
       "        <td id=\"T_f9b83cc6_f642_11e8_bc2f_b0359fbebaa8row2_col3\" class=\"data row2 col3\" >70</td> \n",
       "        <td id=\"T_f9b83cc6_f642_11e8_bc2f_b0359fbebaa8row2_col4\" class=\"data row2 col4\" >1</td> \n",
       "        <td id=\"T_f9b83cc6_f642_11e8_bc2f_b0359fbebaa8row2_col5\" class=\"data row2 col5\" >5</td> \n",
       "        <td id=\"T_f9b83cc6_f642_11e8_bc2f_b0359fbebaa8row2_col6\" class=\"data row2 col6\" >\n",
       "\n",
       "                                Prenestina, Appartamento in Vendita adiacente Largo Preneste, piano alto luminoso ingresso soggiorno camera (possibilità seconda camera) cucina bagno e due balconi. Dilazioni - Permute. Rif. 1070S - Tel. 06.69353612.\n",
       "\n",
       "Apartment for Sale, adjacent Largo Preneste bright high floor entrance living room bedroom kitchen bathroom. Two balconies.\n",
       "\n",
       "Appartement à vendre, adjacent au Largo Preneste, étage élevé, entrée, salon, cuisine, salle de bains. Deux balcons\n",
       "\n",
       "Apartamento en venta, adyacente a Largo Preneste, entrada en el piso alto, sala de estar, cocina y baño. Dos balcones.\n",
       "            \n",
       "</td> \n",
       "    </tr>    <tr> \n",
       "        <td id=\"T_f9b83cc6_f642_11e8_bc2f_b0359fbebaa8row3_col0\" class=\"data row3 col0\" >https://www.immobiliare.it/70288308-Vendita-Appartamento-via-della-Fotografia-Roma.html</td> \n",
       "        <td id=\"T_f9b83cc6_f642_11e8_bc2f_b0359fbebaa8row3_col1\" class=\"data row3 col1\" >690000</td> \n",
       "        <td id=\"T_f9b83cc6_f642_11e8_bc2f_b0359fbebaa8row3_col2\" class=\"data row3 col2\" >5</td> \n",
       "        <td id=\"T_f9b83cc6_f642_11e8_bc2f_b0359fbebaa8row3_col3\" class=\"data row3 col3\" >140</td> \n",
       "        <td id=\"T_f9b83cc6_f642_11e8_bc2f_b0359fbebaa8row3_col4\" class=\"data row3 col4\" >2</td> \n",
       "        <td id=\"T_f9b83cc6_f642_11e8_bc2f_b0359fbebaa8row3_col5\" class=\"data row3 col5\" >2</td> \n",
       "        <td id=\"T_f9b83cc6_f642_11e8_bc2f_b0359fbebaa8row3_col6\" class=\"data row3 col6\" >\n",
       "\n",
       "                                Nelle vicinanze del Parco dell’Appia Antica e della Via Ardeatina, in complesso residenziale di recente costruzione, proponiamo in vendita un appartamento finemente ristrutturato posto all’ultimo piano di una moderna palazzina in cortina. L’immobile è composto da un ampio soggiorno con camino, camera da pranzo con cucina a vista, due camere doppie, due bagni, di cui uno en suite con vasca idromassaggio. Dal soggiorno si accede al terrazzo che guarda verso il Parco; altri due balconi completano gli spazi esterni. La camera da pranzo è separata con una porta scorrevole dalla cucina mentre una scala rifinita in parquet porta al sovrastante locale mansarda. L’accuratezza delle finiture si nota nel pavimento in parquet in tutti gli ambienti abbinato a porte in legno e infissi in legno massello con vetri termici mentre la sicurezza è garantita da porta blindata, grate alle finestre e predisposizione di allarme elettronico. La collocazione rende l’immobile particolarmente tranquillo, la doppia esposizione est/ovest fornisce un’ottima luminosità e la zona residenziale offre tutti i servizi necessari alla vita quotidiana. La proprietà è completata da un ampio box doppio.\n",
       "            \n",
       "</td> \n",
       "    </tr>    <tr> \n",
       "        <td id=\"T_f9b83cc6_f642_11e8_bc2f_b0359fbebaa8row4_col0\" class=\"data row4 col0\" >https://www.immobiliare.it/70114826-Vendita-Trilocale-via-Genserico-Fontana-11-Roma.html</td> \n",
       "        <td id=\"T_f9b83cc6_f642_11e8_bc2f_b0359fbebaa8row4_col1\" class=\"data row4 col1\" >520000</td> \n",
       "        <td id=\"T_f9b83cc6_f642_11e8_bc2f_b0359fbebaa8row4_col2\" class=\"data row4 col2\" >3</td> \n",
       "        <td id=\"T_f9b83cc6_f642_11e8_bc2f_b0359fbebaa8row4_col3\" class=\"data row4 col3\" >105</td> \n",
       "        <td id=\"T_f9b83cc6_f642_11e8_bc2f_b0359fbebaa8row4_col4\" class=\"data row4 col4\" >2</td> \n",
       "        <td id=\"T_f9b83cc6_f642_11e8_bc2f_b0359fbebaa8row4_col5\" class=\"data row4 col5\" >1</td> \n",
       "        <td id=\"T_f9b83cc6_f642_11e8_bc2f_b0359fbebaa8row4_col6\" class=\"data row4 col6\" >\n",
       "\n",
       "                                Proponiamo in vendita in via Genserico Fontana un immobile di 105mq commerciali, sito al primo piano alto (con affacci da terzo) in elegante palazzo in cortina in perfetto stato di manutenzione.\n",
       "Completamente ristrutturato con materiali di pregio, rifinito con arredi di design e falegnameria su misura. \n",
       "Mai abitato. \n",
       "Ampio salone, cucina abitabile, due camere matrimoniali, due bagni, ripostiglio e balconi. \n",
       "Possibilità box auto.\n",
       "Porta blindata, armadi a muro, parquet in tutti gli ambienti, gres porcellanato nei bagni, filo diffusione sonora in ogni ambiente, infissi a taglio termico, comprensivo di arredi su misura e cucina con elettrodomestici. \n",
       "Categoria catastale A/2.\n",
       "VALUTASI PERMUTE\n",
       "\n",
       "Progettazione e realizzazione a cura della Exclusive Home Project. ( www.exclusivehomeproject.com )\n",
       "            \n",
       "</td> \n",
       "    </tr></tbody> \n",
       "</table> "
      ],
      "text/plain": [
       "<pandas.io.formats.style.Styler at 0x1e6063afe80>"
      ]
     },
     "execution_count": 7,
     "metadata": {},
     "output_type": "execute_result"
    }
   ],
   "source": [
    "hw4_data = pd.read_pickle(path + 'hw4_data')\n",
    "hw4_data.head(5).style.hide_index()"
   ]
  }
 ],
 "metadata": {
  "kernelspec": {
   "display_name": "Python 3",
   "language": "python",
   "name": "python3"
  },
  "language_info": {
   "codemirror_mode": {
    "name": "ipython",
    "version": 3
   },
   "file_extension": ".py",
   "mimetype": "text/x-python",
   "name": "python",
   "nbconvert_exporter": "python",
   "pygments_lexer": "ipython3",
   "version": "3.6.5"
  }
 },
 "nbformat": 4,
 "nbformat_minor": 2
}
